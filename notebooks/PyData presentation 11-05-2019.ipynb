{
 "cells": [
  {
   "cell_type": "code",
   "execution_count": null,
   "metadata": {
    "hideCode": true,
    "hidePrompt": true,
    "slideshow": {
     "slide_type": "skip"
    }
   },
   "outputs": [],
   "source": [
    "%%HTML\n",
    "<link rel=\"stylesheet\" type=\"text/css\" href=\"custom.css\">"
   ]
  },
  {
   "cell_type": "markdown",
   "metadata": {
    "slideshow": {
     "slide_type": "slide"
    }
   },
   "source": [
    "#### What’s the uncertainty on your ML prediction?"
   ]
  },
  {
   "cell_type": "code",
   "execution_count": null,
   "metadata": {
    "hideCode": true,
    "hidePrompt": true,
    "hide_input": true,
    "slideshow": {
     "slide_type": "-"
    }
   },
   "outputs": [],
   "source": [
    "from IPython.display import Image\n",
    "Image(filename='img/uncertainty.jpeg')"
   ]
  },
  {
   "cell_type": "code",
   "execution_count": null,
   "metadata": {
    "hidePrompt": true,
    "slideshow": {
     "slide_type": "skip"
    }
   },
   "outputs": [],
   "source": [
    "import matplotlib.pyplot as plt\n",
    "import numpy as np\n",
    "import sys\n",
    "sys.path.append(\"../errortools/\")\n",
    "import errortools\n",
    "import scipy.stats\n",
    "import pandas as pd\n",
    "import sklearn.preprocessing\n",
    "import random\n",
    "\n",
    "import matplotlib\n",
    "\n",
    "SMALL_SIZE = 20\n",
    "MEDIUM_SIZE = 24\n",
    "BIGGER_SIZE = 28\n",
    "\n",
    "matplotlib.rc('font', size=MEDIUM_SIZE)         # controls default text sizes\n",
    "matplotlib.rc('axes', titlesize=MEDIUM_SIZE)    # fontsize of the axes title\n",
    "matplotlib.rc('axes', labelsize=MEDIUM_SIZE)    # fontsize of the x and y labels\n",
    "matplotlib.rc('xtick', labelsize=SMALL_SIZE)    # fontsize of the tick labels\n",
    "matplotlib.rc('ytick', labelsize=SMALL_SIZE)    # fontsize of the tick labels\n",
    "matplotlib.rc('legend', fontsize=SMALL_SIZE)   # legend fontsize\n",
    "matplotlib.rc('figure', titlesize=BIGGER_SIZE)  # fontsize of the figure title\n",
    "\n",
    "matplotlib.rcParams['font.family'] = 'serif'\n",
    "\n",
    "from IPython.display import Markdown, display\n",
    "def Print(string):\n",
    "    display(Markdown(string))\n",
    "    \n",
    "np.random.seed(42)\n",
    "np.set_printoptions(precision=1)"
   ]
  },
  {
   "cell_type": "markdown",
   "metadata": {
    "slideshow": {
     "slide_type": "slide"
    }
   },
   "source": [
    "_Uncertainty/error_ = __how far__ we could be off in our prediction"
   ]
  },
  {
   "cell_type": "markdown",
   "metadata": {
    "slideshow": {
     "slide_type": "slide"
    }
   },
   "source": [
    "Roughly two sources of uncertainty  "
   ]
  },
  {
   "cell_type": "markdown",
   "metadata": {
    "slideshow": {
     "slide_type": "fragment"
    }
   },
   "source": [
    "- Model, assumptions, features, processing, ...  \n",
    "\n",
    "Sometimes called _systematic uncertainties_"
   ]
  },
  {
   "cell_type": "markdown",
   "metadata": {
    "slideshow": {
     "slide_type": "fragment"
    }
   },
   "source": [
    "This is not about those"
   ]
  },
  {
   "cell_type": "markdown",
   "metadata": {
    "slideshow": {
     "slide_type": "fragment"
    }
   },
   "source": [
    "- Limited training data  \n",
    "\n",
    "Sometimes called _statistical uncertainties_"
   ]
  },
  {
   "cell_type": "markdown",
   "metadata": {
    "slideshow": {
     "slide_type": "fragment"
    }
   },
   "source": [
    "This is about those"
   ]
  },
  {
   "cell_type": "markdown",
   "metadata": {
    "slideshow": {
     "slide_type": "slide"
    }
   },
   "source": [
    "# An illustrative example"
   ]
  },
  {
   "cell_type": "markdown",
   "metadata": {
    "slideshow": {
     "slide_type": "slide"
    }
   },
   "source": [
    "We create a dataset according to a perfectly known sigmoid probability distribution  "
   ]
  },
  {
   "cell_type": "code",
   "execution_count": null,
   "metadata": {
    "hidePrompt": true,
    "slideshow": {
     "slide_type": "-"
    }
   },
   "outputs": [],
   "source": [
    "n_traindata = 100\n",
    "slope = 4 \n",
    "bias  = 0\n",
    "\n",
    "X = np.random.uniform(low=-1, high=1, size=n_traindata)\n",
    "p = scipy.stats.logistic.cdf(X * slope + bias)\n",
    "y = (p > np.random.uniform(size=n_traindata)).astype(int)"
   ]
  },
  {
   "cell_type": "code",
   "execution_count": null,
   "metadata": {
    "hideCode": true,
    "hidePrompt": true,
    "hide_input": true,
    "slideshow": {
     "slide_type": "-"
    }
   },
   "outputs": [],
   "source": [
    "H, e = np.histogram(X, bins=10, range=(-1,1))\n",
    "h, e = np.histogram(X[y==1], bins=10, range=(-1,1))\n",
    "r = h/(H+1e-12)\n",
    "\n",
    "fig, ax = plt.subplots(1, 1, figsize=(20, 5))\n",
    "x = np.linspace(-1, 1, 101)\n",
    "p = scipy.stats.logistic.cdf(slope * x + bias)\n",
    "ax.plot(X[y==0], y[y==0], 'o', color='red', markersize=10, label=\"0s\")\n",
    "ax.plot(X[y==1], y[y==1], 'X', color='green', markersize=10, label=\"1s\")\n",
    "ax.plot(x, p, '--', color='black', alpha=0.8)\n",
    "#ax.bar((e[:-1]+e[1:])/2., r, e[1]-e[0], color=\"orange\", alpha=0.5, label=\"fraction of 1s\")\n",
    "ax.set_xlabel(\"some variable X\")\n",
    "ax.set_ylabel(\"probability\")\n",
    "ax.grid()\n",
    "ax.legend()\n",
    "ax.set_ylim((-0.1,1.1));"
   ]
  },
  {
   "cell_type": "markdown",
   "metadata": {
    "slideshow": {
     "slide_type": "slide"
    }
   },
   "source": [
    "We fit a logistic regression to the dataset"
   ]
  },
  {
   "cell_type": "code",
   "execution_count": null,
   "metadata": {
    "hidePrompt": true
   },
   "outputs": [],
   "source": [
    "model = errortools.LogisticRegression()\n",
    "model.fit(X, y)\n",
    "print(model.parameters)"
   ]
  },
  {
   "cell_type": "code",
   "execution_count": null,
   "metadata": {
    "hideCode": true,
    "hidePrompt": true,
    "hide_input": true
   },
   "outputs": [],
   "source": [
    "H, e = np.histogram(X, bins=10, range=(-1,1))\n",
    "h, e = np.histogram(X[y==1], bins=10, range=(-1,1))\n",
    "r = h/(H+1e-12)\n",
    "\n",
    "fig, ax = plt.subplots(1, 1, figsize=(20, 5))\n",
    "x = np.linspace(-1, 1, 101)\n",
    "p = scipy.stats.logistic.cdf(slope * x + bias)\n",
    "f = model.predict(x)\n",
    "ax.plot(x, p, '--', color='black', alpha=1, label=\"true probability: slope {:.0f} bias {:.0f}\".format(slope, bias))\n",
    "#ax.bar((e[:-1]+e[1:])/2., r, e[1]-e[0], color=\"orange\", alpha=0.1)\n",
    "ax.plot(x, f, '-', color='red', alpha=1, label=\"model: slope {:.1f} bias {:.1f}\".format(model.parameters[0], model.parameters[1]))\n",
    "ax.set_xlabel(\"some variable X\")\n",
    "ax.set_ylabel(\"probability\")\n",
    "ax.grid()\n",
    "ax.legend()\n",
    "ax.set_ylim((0,1));"
   ]
  },
  {
   "cell_type": "markdown",
   "metadata": {},
   "source": [
    "The fitted sigmoid is not exactly the same as the sigmoid that created the data"
   ]
  },
  {
   "cell_type": "markdown",
   "metadata": {
    "slideshow": {
     "slide_type": "slide"
    }
   },
   "source": [
    "Our model does not get back the exact slope and bias that we put in  \n",
    "\n",
    "The reason is the dataset  \n",
    "\n",
    "If we had a different dataset, we would get different values"
   ]
  },
  {
   "cell_type": "markdown",
   "metadata": {
    "slideshow": {
     "slide_type": "slide"
    }
   },
   "source": [
    "Let's illustrate this  \n",
    "We repeat the example many times  "
   ]
  },
  {
   "cell_type": "code",
   "execution_count": null,
   "metadata": {
    "hidePrompt": true,
    "slideshow": {
     "slide_type": "-"
    }
   },
   "outputs": [],
   "source": [
    "n_datasets = 1000\n",
    "Xs = np.random.uniform(low=-1, high=1, size=(n_datasets, n_traindata))\n",
    "ps = scipy.stats.logistic.cdf(Xs * slope + bias)\n",
    "ys = (ps > np.random.uniform(size=Xs.shape)).astype(int)"
   ]
  },
  {
   "cell_type": "code",
   "execution_count": null,
   "metadata": {
    "hidePrompt": true,
    "slideshow": {
     "slide_type": "slide"
    }
   },
   "outputs": [],
   "source": [
    "models = []\n",
    "for i in range(n_datasets):\n",
    "    m = errortools.LogisticRegression()\n",
    "    m.fit(Xs[i], ys[i])\n",
    "    models.append(m)"
   ]
  },
  {
   "cell_type": "code",
   "execution_count": null,
   "metadata": {
    "hideCode": true,
    "hidePrompt": true,
    "hide_input": true,
    "slideshow": {
     "slide_type": "-"
    }
   },
   "outputs": [],
   "source": [
    "fig, ax = plt.subplots(1, 2, figsize=(15,2))\n",
    "ax[0].hist([m.parameters[0] for m in models], bins=40, range=(2,7), color='orange', alpha=0.5, label=\"models\")\n",
    "ax[0].plot((slope, slope), ax[0].get_ylim(), color='black', label=\"True value\")\n",
    "ax[0].grid()\n",
    "ax[0].set_xlabel(\"Slope\")\n",
    "ax[0].set_ylabel(\"Count\")\n",
    "ax[0].legend()\n",
    "\n",
    "ax[1].hist([m.parameters[1] for m in models], bins=40, range=(-1,1), color='orange', alpha=0.5, label=\"models\")\n",
    "ax[1].plot((bias, bias), ax[1].get_ylim(), color='black', label=\"True value\")\n",
    "ax[1].grid()\n",
    "ax[1].set_xlabel(\"Bias\")\n",
    "ax[1].legend()\n",
    "\n",
    "fig, ax = plt.subplots(1, 1, figsize=(15,3))\n",
    "p = scipy.stats.logistic.cdf(slope * x + bias)\n",
    "ax.plot(x, models[0].predict(x), '-', color='orange', alpha=0.25, label=\"models\")\n",
    "for m in models[1:]:\n",
    "    ax.plot(x, m.predict(x), '-', color='orange', alpha=0.1)\n",
    "ax.plot(x, p, '--', color='black', label=\"Real probability\")\n",
    "ax.set_ylim((0,1))\n",
    "ax.set_xlabel(\"Some variable X\")\n",
    "ax.set_ylabel(\"Probability\")\n",
    "ax.legend();"
   ]
  },
  {
   "cell_type": "markdown",
   "metadata": {
    "slideshow": {
     "slide_type": "slide"
    }
   },
   "source": [
    "### We see that\n",
    "\n",
    "A model's parameters and prediction curves depend on the training data  \n",
    "\n",
    "We thus have an uncertainty on our predictions  "
   ]
  },
  {
   "cell_type": "markdown",
   "metadata": {
    "slideshow": {
     "slide_type": "slide"
    }
   },
   "source": [
    "# Estimating uncertainties"
   ]
  },
  {
   "cell_type": "markdown",
   "metadata": {
    "slideshow": {
     "slide_type": "slide"
    }
   },
   "source": [
    "Two steps"
   ]
  },
  {
   "cell_type": "markdown",
   "metadata": {
    "slideshow": {
     "slide_type": "fragment"
    }
   },
   "source": [
    "1. Estimate uncertainties on model parameters"
   ]
  },
  {
   "cell_type": "markdown",
   "metadata": {
    "slideshow": {
     "slide_type": "fragment"
    }
   },
   "source": [
    "2. Propagate uncertainties to predictions"
   ]
  },
  {
   "cell_type": "markdown",
   "metadata": {
    "slideshow": {
     "slide_type": "slide"
    }
   },
   "source": [
    "We'll show these steps with a real example\n",
    "\n",
    "**Surviving the Titanic**"
   ]
  },
  {
   "cell_type": "markdown",
   "metadata": {
    "slideshow": {
     "slide_type": "slide"
    }
   },
   "source": [
    "First we get the data that we need"
   ]
  },
  {
   "cell_type": "code",
   "execution_count": null,
   "metadata": {
    "hidePrompt": true,
    "slideshow": {
     "slide_type": "-"
    }
   },
   "outputs": [],
   "source": [
    "df = pd.read_csv(\"http://web.stanford.edu/class/archive/cs/cs109/cs109.1166/stuff/titanic.csv\")"
   ]
  },
  {
   "cell_type": "code",
   "execution_count": null,
   "metadata": {
    "hideCode": true,
    "hidePrompt": true
   },
   "outputs": [],
   "source": [
    "df['sex'] = df.Sex.apply(lambda s: 1 if s=='female' else 0)"
   ]
  },
  {
   "cell_type": "code",
   "execution_count": null,
   "metadata": {
    "hideCode": false,
    "hidePrompt": true
   },
   "outputs": [],
   "source": [
    "df.head(5)"
   ]
  },
  {
   "cell_type": "markdown",
   "metadata": {
    "slideshow": {
     "slide_type": "slide"
    }
   },
   "source": [
    "Let's look at some data distributions"
   ]
  },
  {
   "cell_type": "code",
   "execution_count": null,
   "metadata": {
    "hideCode": true,
    "hidePrompt": true,
    "hide_input": true,
    "slideshow": {
     "slide_type": "-"
    }
   },
   "outputs": [],
   "source": [
    "dfsurv = df[df.Survived==1]\n",
    "dfdied = df[df.Survived==0]\n",
    "fig, ax = plt.subplots(2, 3, figsize=(20, 12))\n",
    "ax[0,0].hist(df.Pclass, bins=3, range=(0.5,3.5), color='orange', alpha=0.5, label=\"all\")\n",
    "ax[0,0].hist(dfsurv.Pclass, bins=3, range=(0.5,3.5), color='green', alpha=0.5, label=\"survived\")\n",
    "ax[0,0].set_xlabel(\"Pclass\")\n",
    "ax[0,0].legend()\n",
    "\n",
    "ax[0,1].hist(df.Age, bins=16, range=(0,80), color='orange', alpha=0.5, label=\"all\")\n",
    "ax[0,1].hist(dfsurv.Age, bins=16, range=(0,80), color='green', alpha=0.5, label=\"survived\")\n",
    "ax[0,1].set_xlabel(\"Age\")\n",
    "\n",
    "ax[0,2].hist(df['Siblings/Spouses Aboard'], bins=9, range=(-0.5,8.5), color='orange', alpha=0.5, label=\"all\")\n",
    "ax[0,2].hist(dfsurv['Siblings/Spouses Aboard'], bins=9, range=(-0.5,8.5), color='green', alpha=0.5, label=\"survived\")\n",
    "ax[0,2].set_xlabel(\"Siblings/Spouses Aboard\")\n",
    "\n",
    "ax[1,0].hist(df['Parents/Children Aboard'], bins=7, range=(-0.5,6.5), color='orange', alpha=0.5, label=\"all\")\n",
    "ax[1,0].hist(dfsurv['Parents/Children Aboard'], bins=7, range=(-0.5,6.5), color='green', alpha=0.5, label=\"survived\")\n",
    "ax[1,0].set_xlabel(\"Parents/Children Aboard\")\n",
    "\n",
    "ax[1,1].hist(df['Fare'], bins=20, range=(0,200), color='orange', alpha=0.5, label=\"all\")\n",
    "ax[1,1].hist(dfsurv['Fare'], bins=20, range=(0,200), color='green', alpha=0.5, label=\"survived\")\n",
    "ax[1,1].set_xlabel(\"Fare\")\n",
    "\n",
    "ax[1,2].hist(df['sex'], bins=2, range=(-0.5,1.5), color='orange', alpha=0.5, label=\"all\")\n",
    "ax[1,2].hist(dfsurv['sex'], bins=2, range=(-0.5,1.5), color='green', alpha=0.5, label=\"survived\")\n",
    "ax[1,2].set_xlabel(\"sex\")\n",
    "ax[1,2].get_xaxis().set_ticks([0,1])\n",
    "ax[1,2].get_xaxis().set_ticklabels(['male', 'female']);"
   ]
  },
  {
   "cell_type": "markdown",
   "metadata": {
    "slideshow": {
     "slide_type": "slide"
    }
   },
   "source": [
    "## Now let's train a model!"
   ]
  },
  {
   "cell_type": "markdown",
   "metadata": {
    "slideshow": {
     "slide_type": "slide"
    }
   },
   "source": [
    "We define our features and target"
   ]
  },
  {
   "cell_type": "code",
   "execution_count": null,
   "metadata": {
    "hidePrompt": true,
    "slideshow": {
     "slide_type": "-"
    }
   },
   "outputs": [],
   "source": [
    "features = ['Pclass', 'Age', 'Fare', 'Siblings/Spouses Aboard', \n",
    "            'Parents/Children Aboard', 'sex']\n",
    "target = 'Survived'"
   ]
  },
  {
   "cell_type": "markdown",
   "metadata": {},
   "source": [
    "Make a train-test split"
   ]
  },
  {
   "cell_type": "code",
   "execution_count": null,
   "metadata": {
    "hidePrompt": true,
    "slideshow": {
     "slide_type": "-"
    }
   },
   "outputs": [],
   "source": [
    "df_train = df.sample(frac=0.5, replace=False, random_state=42)\n",
    "df_test  = df.loc[df.index.difference(df_train.index)]"
   ]
  },
  {
   "cell_type": "code",
   "execution_count": null,
   "metadata": {
    "hideCode": false,
    "hideOutput": false,
    "hidePrompt": true,
    "slideshow": {
     "slide_type": "skip"
    }
   },
   "outputs": [],
   "source": [
    "X_train = df_train[features].values\n",
    "y_train = df_train[target].values"
   ]
  },
  {
   "cell_type": "code",
   "execution_count": null,
   "metadata": {
    "hideCode": false,
    "hideOutput": false,
    "hidePrompt": true,
    "slideshow": {
     "slide_type": "skip"
    }
   },
   "outputs": [],
   "source": [
    "X_test = df_test[features].values\n",
    "y_test = df_test[target].values"
   ]
  },
  {
   "cell_type": "markdown",
   "metadata": {
    "slideshow": {
     "slide_type": "skip"
    }
   },
   "source": [
    "We scale our inputs, so we can compare fit parameters"
   ]
  },
  {
   "cell_type": "code",
   "execution_count": null,
   "metadata": {
    "hidePrompt": true,
    "slideshow": {
     "slide_type": "skip"
    }
   },
   "outputs": [],
   "source": [
    "scaler = sklearn.preprocessing.MinMaxScaler().fit(X_train)\n",
    "X_train_scaled = scaler.transform(X_train)\n",
    "X_test_scaled = scaler.transform(X_test)"
   ]
  },
  {
   "cell_type": "markdown",
   "metadata": {},
   "source": [
    "We use our `LogisticRegression` class"
   ]
  },
  {
   "cell_type": "code",
   "execution_count": null,
   "metadata": {
    "hidePrompt": true,
    "slideshow": {
     "slide_type": "-"
    }
   },
   "outputs": [],
   "source": [
    "titanic_model = errortools.LogisticRegression()\n",
    "titanic_model.fit(X_train_scaled, y_train)\n",
    "titanic_model.parameters"
   ]
  },
  {
   "cell_type": "markdown",
   "metadata": {
    "slideshow": {
     "slide_type": "slide"
    }
   },
   "source": [
    "## 1. Estimate uncertainties on model parameters"
   ]
  },
  {
   "cell_type": "markdown",
   "metadata": {
    "slideshow": {
     "slide_type": "slide"
    }
   },
   "source": [
    "When we fit, we minimize a loss function $L_{oss}(p; X, y)$  \n",
    "\n",
    "__And implicitly maximise a likelihood__ $L(p|X,y)\\sim e^{-L_{oss}(p; X, y)}$"
   ]
  },
  {
   "cell_type": "markdown",
   "metadata": {
    "hide_input": false,
    "slideshow": {
     "slide_type": "slide"
    }
   },
   "source": [
    "The optimal model parameters\n",
    "* minimize the loss function\n",
    "* are the most likely parameters for the given dataset \n",
    "\n",
    "But surrounding parameter values are still likely  "
   ]
  },
  {
   "cell_type": "code",
   "execution_count": null,
   "metadata": {
    "hideCode": true,
    "hidePrompt": true,
    "hide_input": true
   },
   "outputs": [],
   "source": [
    "fig, ax = plt.subplots(1, 2, figsize=(20, 4))\n",
    "U = np.tile(titanic_model.parameters, (101,1))\n",
    "U[:,1] += np.linspace(-1, 1, 101)\n",
    "v = np.array([titanic_model.loss(u, X_train_scaled, y_train) for u in U])\n",
    "ax[0].plot(U[:,1], v, '-', color='orange', label=\"loss\")\n",
    "ax[1].plot(U[:,1], np.exp(-v), '-', color='orange', label=\"likelihood\")\n",
    "ax[0].grid(); ax[1].grid(); ax[0].set_xlabel(\"Scaled Age\"); ax[1].set_xlabel(\"Scaled Age\");\n",
    "ax[0].set_ylabel(\"loss\"); ax[1].set_ylabel(\"likelihood\");"
   ]
  },
  {
   "cell_type": "markdown",
   "metadata": {
    "slideshow": {
     "slide_type": "slide"
    }
   },
   "source": [
    "To calculate which parameters are still likely  \n",
    "* We make a parabolic approximation of the loss function [<sup>1</sup>](#fn1)  \n",
    "* This turns the likelihood into a multivariate Gaussian distribution[<sup>2</sup>](#fn2)  \n",
    "\n",
    "<span style=\"font-size:20px\"> 1. $L_{oss}(p; X, y)\\approx L_{oss}(p_0) + \\frac{1}{2}(p-p_0)\\cdot\\frac{\\partial^2 L_{oss}}{\\partial p^2}\\cdot(p-p_0)$<br></span>\n",
    "<span style=\"font-size:20px\"> 2. $L(p|X,y)\\approx e^{-\\frac{1}{2}(p-p_0)\\cdot\\frac{\\partial^2 L_{oss}}{\\partial p^2}\\cdot(p-p_0)}$</span>\n"
   ]
  },
  {
   "cell_type": "markdown",
   "metadata": {
    "slideshow": {
     "slide_type": "slide"
    }
   },
   "source": [
    "How good the approximation is,  \n",
    "determines how good the error estimates are  \n",
    "\n",
    "We're creating a reporting function to visualise this"
   ]
  },
  {
   "cell_type": "code",
   "execution_count": null,
   "metadata": {
    "hidePrompt": true,
    "scrolled": false,
    "slideshow": {
     "slide_type": "-"
    }
   },
   "outputs": [],
   "source": [
    "_, fig = errortools.report_loss_versus_approximation(titanic_model,\n",
    "                                                     features + ['bias']);\n",
    "fig[1]"
   ]
  },
  {
   "cell_type": "markdown",
   "metadata": {},
   "source": [
    "The parabolic approximation is pretty good"
   ]
  },
  {
   "cell_type": "markdown",
   "metadata": {
    "hide_input": true,
    "slideshow": {
     "slide_type": "slide"
    }
   },
   "source": [
    "**The approximation automatically gives us the parameter errors.**  \n",
    "They are given by the covariance matrix [<sup>1</sup>](#fn1)\n",
    "\n",
    "* Diagonal elements give the parameter errors\n",
    "* Off-diagonal elements give the parameter correlations\n",
    "\n",
    "<span style=\"font-size:20px\"> 1. $\\hat{\\Sigma}_{p} = \\left[\\frac{\\partial^2 L_{oss}}{\\partial p^2}\\right]^{-1}$ </span>\n"
   ]
  },
  {
   "cell_type": "markdown",
   "metadata": {
    "slideshow": {
     "slide_type": "slide"
    }
   },
   "source": [
    "We're creating reporting functions to visualise the parameter errors"
   ]
  },
  {
   "cell_type": "code",
   "execution_count": null,
   "metadata": {
    "hidePrompt": true,
    "slideshow": {
     "slide_type": "-"
    }
   },
   "outputs": [],
   "source": [
    "errortools.report_parameter_error(titanic_model, \n",
    "                                  features + ['bias'], \n",
    "                                  figsize=(20, 4), \n",
    "                                  rotation_x_labels=30);"
   ]
  },
  {
   "cell_type": "markdown",
   "metadata": {
    "slideshow": {
     "slide_type": "slide"
    }
   },
   "source": [
    "## 2. Propagate uncertainties to predictions"
   ]
  },
  {
   "cell_type": "markdown",
   "metadata": {
    "slideshow": {
     "slide_type": "slide"
    }
   },
   "source": [
    "A prediction is a function of input features $X$ and model parameters $p$  \n",
    "\n",
    "The most likely model parameters $p_0$ determine the prediction  \n",
    "\n",
    "**And the uncertainties in the parameters propagate to uncertainties in the prediction**"
   ]
  },
  {
   "cell_type": "markdown",
   "metadata": {
    "slideshow": {
     "slide_type": "slide"
    }
   },
   "source": [
    "Sevaral ways to propagate errors  \n",
    "* Likelihood intervals\n",
    "* Likelihood sampling\n",
    "* Linear error propagation  \n",
    "\n",
    "All have benefits and drawbacks  \n",
    "\n",
    "We'll show \"linear error propagation\""
   ]
  },
  {
   "cell_type": "markdown",
   "metadata": {
    "slideshow": {
     "slide_type": "slide"
    }
   },
   "source": [
    "**Linear error propagation**  \n",
    "   * We make a linear approximation of the prediction function [<sup>1</sup>](#fn1)\n",
    "   * This makes the prediction error a simple equation[<sup>2</sup>](#fn2)\n",
    "       \n",
    "Fast calculation, but may be inexact    \n",
    "\n",
    "<span style=\"font-size:20px\"> 1. $f(X|p)\\approx f(X|p_0)+\\frac{\\partial f}{\\partial p}(X|p_0)\\cdot(p-p_0)$ </span>  \n",
    "<span style=\"font-size:20px\"> 2. $\\Delta f \\approx  \\sqrt{\\frac{\\partial f}{\\partial p}(X|p_0) \\cdot \\hat{\\Sigma}_p \\cdot \\frac{\\partial f}{\\partial p}(X|p_0)}$ </span>"
   ]
  },
  {
   "cell_type": "markdown",
   "metadata": {
    "slideshow": {
     "slide_type": "slide"
    }
   },
   "source": [
    "# Let's apply this on our test set  "
   ]
  },
  {
   "cell_type": "markdown",
   "metadata": {
    "slideshow": {
     "slide_type": "slide"
    }
   },
   "source": [
    "We make predictions"
   ]
  },
  {
   "cell_type": "code",
   "execution_count": null,
   "metadata": {
    "slideshow": {
     "slide_type": "-"
    }
   },
   "outputs": [],
   "source": [
    "predictions = titanic_model.predict(X_test_scaled)"
   ]
  },
  {
   "cell_type": "markdown",
   "metadata": {
    "slideshow": {
     "slide_type": "fragment"
    }
   },
   "source": [
    "And we estimate errors on our predictions"
   ]
  },
  {
   "cell_type": "code",
   "execution_count": null,
   "metadata": {
    "hidePrompt": true
   },
   "outputs": [],
   "source": [
    "prediction_errors, _ = titanic_model.prediction_errors(X_test_scaled, \n",
    "                                method='linear_error_propagation')"
   ]
  },
  {
   "cell_type": "markdown",
   "metadata": {
    "slideshow": {
     "slide_type": "slide"
    }
   },
   "source": [
    "We're making a reporting function that visualises predictions and errors"
   ]
  },
  {
   "cell_type": "code",
   "execution_count": null,
   "metadata": {
    "hidePrompt": true,
    "hide_input": false,
    "slideshow": {
     "slide_type": "-"
    }
   },
   "outputs": [],
   "source": [
    "errortools.report_error_test_samples(titanic_model, \n",
    "                                     X_test_scaled,\n",
    "                                     y_test,\n",
    "                                     figsize=(20, 10));"
   ]
  },
  {
   "cell_type": "markdown",
   "metadata": {
    "slideshow": {
     "slide_type": "slide"
    }
   },
   "source": [
    "Except for predictions on test samples, we can make prediction curves"
   ]
  },
  {
   "cell_type": "markdown",
   "metadata": {
    "slideshow": {
     "slide_type": "slide"
    }
   },
   "source": [
    "Let's look at a 42 year old male in third class without any family and see his survival probability as a function of Fare"
   ]
  },
  {
   "cell_type": "code",
   "execution_count": null,
   "metadata": {},
   "outputs": [],
   "source": [
    "person = [3.0, 42.0, 0., 0., 0., 0.]\n",
    "scaled_person = scaler.transform([person])"
   ]
  },
  {
   "cell_type": "code",
   "execution_count": null,
   "metadata": {
    "hide_input": true
   },
   "outputs": [],
   "source": [
    "U = np.tile(scaled_person, (101,1))\n",
    "U[:,2] += np.linspace(0, 1, 101)\n",
    "v = titanic_model.predict(U)"
   ]
  },
  {
   "cell_type": "code",
   "execution_count": null,
   "metadata": {
    "hideCode": true,
    "hidePrompt": true
   },
   "outputs": [],
   "source": [
    "fig, ax = plt.subplots(1, 1, figsize=(20, 4))\n",
    "ax.plot(U[:,2], v, '-', color='orange')\n",
    "ax.grid(); ax.set_xlabel(\"Scaled Fare\"); ax.set_ylabel(\"survival\");"
   ]
  },
  {
   "cell_type": "markdown",
   "metadata": {
    "slideshow": {
     "slide_type": "slide"
    }
   },
   "source": [
    "It looks like if he payed enough he'll be saved  "
   ]
  },
  {
   "cell_type": "markdown",
   "metadata": {
    "slideshow": {
     "slide_type": "fragment"
    }
   },
   "source": [
    "But can he be so sure about that?"
   ]
  },
  {
   "cell_type": "markdown",
   "metadata": {
    "slideshow": {
     "slide_type": "fragment"
    }
   },
   "source": [
    "Let's look at the uncertainty"
   ]
  },
  {
   "cell_type": "code",
   "execution_count": null,
   "metadata": {
    "hidePrompt": true,
    "slideshow": {
     "slide_type": "slide"
    }
   },
   "outputs": [],
   "source": [
    "errortools.report_error_indivial_pred(titanic_model, \n",
    "                                      scaled_person[0], \n",
    "                                      'Fare', features, 0, 1, 100,\n",
    "                                      figsize=(20,5))"
   ]
  },
  {
   "cell_type": "markdown",
   "metadata": {},
   "source": [
    "Not so certain it appears!"
   ]
  },
  {
   "cell_type": "markdown",
   "metadata": {
    "slideshow": {
     "slide_type": "slide"
    }
   },
   "source": [
    "# To recap\n",
    "\n",
    "* We're creating a tool set that not only allows you to train models and make predictions  \n",
    "* But also estimate uncertainties on those predictions\n",
    "* And reporting functionalities to visualise the models"
   ]
  },
  {
   "cell_type": "markdown",
   "metadata": {
    "slideshow": {
     "slide_type": "slide"
    }
   },
   "source": [
    "## What's next?\n",
    "\n",
    "**We are far from done** (just starting in fact)  \n",
    "- Refactor code (so please be patient if you want to use)\n",
    "- Integrate models trained with sklearn\n",
    "- Error estimation for neural networks (a start has been made with Pytorch)\n",
    "- Error estimation for regressors like $\\chi^2$ fitter\n",
    "- Error estimation on different metrics like the confusion matrix\n",
    "- ..."
   ]
  },
  {
   "cell_type": "markdown",
   "metadata": {
    "slideshow": {
     "slide_type": "slide"
    }
   },
   "source": [
    "# Thank you"
   ]
  }
 ],
 "metadata": {
  "celltoolbar": "Hide code",
  "hide_input": false,
  "kernelspec": {
   "display_name": "Python 3",
   "language": "python",
   "name": "python3"
  },
  "language_info": {
   "codemirror_mode": {
    "name": "ipython",
    "version": 3
   },
   "file_extension": ".py",
   "mimetype": "text/x-python",
   "name": "python",
   "nbconvert_exporter": "python",
   "pygments_lexer": "ipython3",
   "version": "3.7.2"
  },
  "latex_envs": {
   "LaTeX_envs_menu_present": true,
   "autoclose": false,
   "autocomplete": true,
   "bibliofile": "biblio.bib",
   "cite_by": "apalike",
   "current_citInitial": 1,
   "eqLabelWithNumbers": true,
   "eqNumInitial": 1,
   "hotkeys": {
    "equation": "Ctrl-E",
    "itemize": "Ctrl-I"
   },
   "labels_anchors": false,
   "latex_user_defs": false,
   "report_style_numbering": false,
   "user_envs_cfg": false
  },
  "livereveal": {
   "controls": false,
   "height": 768,
   "scroll": true,
   "theme": "serif",
   "transition": "linear",
   "width": 1024
  },
  "toc": {
   "base_numbering": 1,
   "nav_menu": {},
   "number_sections": false,
   "sideBar": true,
   "skip_h1_title": false,
   "title_cell": "Table of Contents",
   "title_sidebar": "Contents",
   "toc_cell": false,
   "toc_position": {},
   "toc_section_display": true,
   "toc_window_display": false
  },
  "varInspector": {
   "cols": {
    "lenName": 16,
    "lenType": 16,
    "lenVar": 40
   },
   "kernels_config": {
    "python": {
     "delete_cmd_postfix": "",
     "delete_cmd_prefix": "del ",
     "library": "var_list.py",
     "varRefreshCmd": "print(var_dic_list())"
    },
    "r": {
     "delete_cmd_postfix": ") ",
     "delete_cmd_prefix": "rm(",
     "library": "var_list.r",
     "varRefreshCmd": "cat(var_dic_list()) "
    }
   },
   "types_to_exclude": [
    "module",
    "function",
    "builtin_function_or_method",
    "instance",
    "_Feature"
   ],
   "window_display": false
  }
 },
 "nbformat": 4,
 "nbformat_minor": 2
}
