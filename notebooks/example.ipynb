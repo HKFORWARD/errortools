{
 "cells": [
  {
   "cell_type": "code",
   "execution_count": null,
   "metadata": {
    "ExecuteTime": {
     "end_time": "2019-01-14T12:48:04.450500Z",
     "start_time": "2019-01-14T12:48:03.586150Z"
    }
   },
   "outputs": [],
   "source": [
    "%pylab inline\n",
    "import numpy as np\n",
    "import pandas as pd\n",
    "import scipy.stats\n",
    "from matplotlib.backends.backend_pdf import PdfPages"
   ]
  },
  {
   "cell_type": "code",
   "execution_count": null,
   "metadata": {},
   "outputs": [],
   "source": [
    "import sys\n",
    "sys.path.append(\"../errortools/\")\n",
    "import errortools"
   ]
  },
  {
   "cell_type": "markdown",
   "metadata": {},
   "source": [
    "# Fitting and predicting"
   ]
  },
  {
   "cell_type": "code",
   "execution_count": null,
   "metadata": {},
   "outputs": [],
   "source": [
    "ndim = 3\n",
    "fit_intercept = True\n",
    "ndata = 100\n",
    "\n",
    "p_true = [2, 0, -2, 0]"
   ]
  },
  {
   "cell_type": "code",
   "execution_count": null,
   "metadata": {},
   "outputs": [],
   "source": [
    "np.random.seed(42)\n",
    "X = np.random.uniform(low=-1, high=1, size=ndim*ndata).reshape(ndata, ndim)\n",
    "p = scipy.stats.logistic.cdf(np.dot(np.concatenate((X, np.ones((X.shape[0],1), dtype=float)), axis=1), p_true))\n",
    "y = (p > np.random.uniform(size=ndata)).astype(int)"
   ]
  },
  {
   "cell_type": "code",
   "execution_count": null,
   "metadata": {},
   "outputs": [],
   "source": [
    "fig, ax = plt.subplots(1, 3, figsize=(15,4))\n",
    "\n",
    "ax[0].plot(X[y==0,0], X[y==0,1], 'o', color='orange', alpha=0.2, markersize=5)\n",
    "ax[0].plot(X[y==1,0], X[y==1,1], 'o', color='green',  alpha=0.2, markersize=5)\n",
    "ax[0].set_xlabel(\"x0\")\n",
    "ax[0].set_ylabel(\"x1\")\n",
    "\n",
    "ax[1].plot(X[y==0,0], X[y==0,2], 'o', color='orange', alpha=0.2, markersize=5)\n",
    "ax[1].plot(X[y==1,0], X[y==1,2], 'o', color='green',  alpha=0.2, markersize=5)\n",
    "ax[1].set_xlabel(\"x0\")\n",
    "ax[1].set_ylabel(\"x2\")\n",
    "\n",
    "ax[2].plot(X[y==0,1], X[y==0,2], 'o', color='orange', alpha=0.2, markersize=5)\n",
    "ax[2].plot(X[y==1,1], X[y==1,2], 'o', color='green',  alpha=0.2, markersize=5)\n",
    "ax[2].set_xlabel(\"x1\")\n",
    "ax[2].set_ylabel(\"x2\");"
   ]
  },
  {
   "cell_type": "code",
   "execution_count": null,
   "metadata": {},
   "outputs": [],
   "source": [
    "model = errortools.LogisticRegression(fit_intercept=True)\n",
    "model.fit(X,y)"
   ]
  },
  {
   "cell_type": "code",
   "execution_count": null,
   "metadata": {
    "scrolled": false
   },
   "outputs": [],
   "source": [
    "fig, ax = plt.subplots(1, 3, figsize=(20,5))\n",
    "\n",
    "nstddvs = 1\n",
    "\n",
    "p = model.parameters\n",
    "cvr_mtx = model.cvr_mtx\n",
    "prc_mtx = np.linalg.inv(cvr_mtx)\n",
    "\n",
    "u = np.linspace(-2, 2, 100).reshape(-1,1)\n",
    "a = np.zeros((100,1), dtype=float)\n",
    "\n",
    "x = np.concatenate((u, a, a), axis=1)\n",
    "f = model.predict(x)\n",
    "el1, eu1 = model.estimate_errors(x, nstddvs)\n",
    "es = model.estimate_errors_sampling(x, 100)\n",
    "el = model.estimate_errors_linear(x, 1)\n",
    "g = scipy.stats.logistic.cdf(np.dot(np.concatenate((x,np.ones((x.shape[0],1))),axis=1), p_true))\n",
    "ax[0].plot(u, g, '-', color='black', alpha=1, label=\"true curve\")\n",
    "ax[0].plot(u, f, '-', color='red', label=\"fitted curve\")\n",
    "ax[0].fill_between(x=u.ravel(), y1=f-el1, y2=f+eu1, alpha=0.3, color='green', label=\"error\")\n",
    "ax[0].fill_between(x=u.ravel(), y1=f-nstddvs*es, y2=f+nstddvs*es, alpha=0.3, color='orange', label=\"sampled error\")\n",
    "ax[0].fill_between(x=u.ravel(), y1=f-nstddvs*el, y2=f+nstddvs*el, alpha=0.3, color='blue', label=\"linear error\")\n",
    "ax[0].set_xlabel(\"x0\")\n",
    "ax[0].set_ylabel(\"logistic prob\")\n",
    "ax[0].legend()\n",
    "\n",
    "x = np.concatenate((a, u, a), axis=1)\n",
    "f = model.predict(x)\n",
    "el1, eu1 = model.estimate_errors(x, nstddvs)\n",
    "es = model.estimate_errors_sampling(x, 100)\n",
    "el = model.estimate_errors_linear(x, 1)\n",
    "g = scipy.stats.logistic.cdf(np.dot(np.concatenate((x,np.ones((x.shape[0],1))),axis=1), p_true))\n",
    "ax[1].plot(u, g, '-', color='black', alpha=1, label=\"true curve\")\n",
    "ax[1].plot(u, f, '-', color='red', label=\"fitted curve\")\n",
    "ax[1].fill_between(x=u.ravel(), y1=f-el1, y2=f+eu1, alpha=0.3, color='green', label=\"error\")\n",
    "ax[1].fill_between(x=u.ravel(), y1=f-nstddvs*es, y2=f+nstddvs*es, alpha=0.3, color='orange', label=\"sampled error\")\n",
    "ax[1].fill_between(x=u.ravel(), y1=f-nstddvs*el, y2=f+nstddvs*el, alpha=0.3, color='blue', label=\"linear error\")\n",
    "ax[1].set_xlabel(\"x1\")\n",
    "ax[1].set_ylabel(\"logistic prob\")\n",
    "ax[1].legend()\n",
    "\n",
    "x = np.concatenate((a, a, u), axis=1)\n",
    "f = model.predict(x)\n",
    "el1, eu1 = model.estimate_errors(x, nstddvs)\n",
    "es = model.estimate_errors_sampling(x, 100)\n",
    "el = model.estimate_errors_linear(x, 1)\n",
    "g = scipy.stats.logistic.cdf(np.dot(np.concatenate((x,np.ones((x.shape[0],1))),axis=1), p_true))\n",
    "ax[2].plot(u, g, '-', color='black', alpha=1, label=\"true curve\")\n",
    "ax[2].plot(u, f, '-', color='red', label=\"fitted curve\")\n",
    "ax[2].fill_between(x=u.ravel(), y1=f-el1, y2=f+eu1, alpha=0.3, color='green', label=\"error\")\n",
    "ax[2].fill_between(x=u.ravel(), y1=f-nstddvs*es, y2=f+nstddvs*es, alpha=0.3, color='orange', label=\"sampled error\")\n",
    "ax[2].fill_between(x=u.ravel(), y1=f-nstddvs*el, y2=f+nstddvs*el, alpha=0.3, color='blue', label=\"linear error\")\n",
    "ax[2].set_xlabel(\"x2\")\n",
    "ax[2].set_ylabel(\"logistic prob\")\n",
    "ax[2].legend();"
   ]
  },
  {
   "cell_type": "markdown",
   "metadata": {},
   "source": [
    "\n",
    "# Create report (2 ways)"
   ]
  },
  {
   "cell_type": "code",
   "execution_count": null,
   "metadata": {},
   "outputs": [],
   "source": [
    "features = ['x1', 'x2', 'x3', 'bias']\n",
    "with PdfPages('Report.pdf') as pdf:\n",
    "    errortools.errortools.report_correlation_matrix(model, features, pdf)\n",
    "    errortools.errortools.report_parameter_error(model, features, pdf)\n",
    "    errortools.errortools.report_loss_versus_approximation(model, X, y, 0, 0, features, pdf)\n",
    "    errortools.report_error_indivial_pred(model, X[0], 'x1', features, 0, 20, 100, pdf)\n",
    "    errortools.report_error_indivial_pred(model, X[0], 'x2', features, 0, 20, 100, pdf)\n",
    "    errortools.report_model_positive_ratio(model, X, y, 1000, 10, pdf)\n",
    "    errortools.report_error_test_samples(model, X, pdf)"
   ]
  },
  {
   "cell_type": "code",
   "execution_count": null,
   "metadata": {},
   "outputs": [],
   "source": [
    "pdf = errortools.errortools.report_correlation_matrix(model, features=features)\n",
    "pdf = errortools.errortools.report_parameter_error(model, features, pdf)\n",
    "pdf = errortools.errortools.report_loss_versus_approximation(model, X, y, 0, 0, features, pdf)\n",
    "pdf = errortools.report_error_indivial_pred(model, X[0], 'x1', features, 0, 20, 100, pdf)\n",
    "pdf = errortools.report_error_indivial_pred(model, X[0], 'x2', features, 0, 20, 100, pdf)\n",
    "pdf = errortools.report_model_positive_ratio(model, X, y, 1000, 10, pdf)\n",
    "pdf = errortools.report_error_test_samples(model, X, pdf)\n",
    "pdf.close()"
   ]
  }
 ],
 "metadata": {
  "kernelspec": {
   "display_name": "Python 3",
   "language": "python",
   "name": "python3"
  },
  "language_info": {
   "codemirror_mode": {
    "name": "ipython",
    "version": 3
   },
   "file_extension": ".py",
   "mimetype": "text/x-python",
   "name": "python",
   "nbconvert_exporter": "python",
   "pygments_lexer": "ipython3",
   "version": "3.7.2"
  },
  "toc": {
   "colors": {
    "hover_highlight": "#DAA520",
    "navigate_num": "#000000",
    "navigate_text": "#333333",
    "running_highlight": "#FF0000",
    "selected_highlight": "#FFD700",
    "sidebar_border": "#EEEEEE",
    "wrapper_background": "#FFFFFF"
   },
   "moveMenuLeft": true,
   "nav_menu": {
    "height": "12px",
    "width": "252px"
   },
   "navigate_menu": true,
   "number_sections": true,
   "sideBar": true,
   "threshold": 4,
   "toc_cell": false,
   "toc_section_display": "block",
   "toc_window_display": false,
   "widenNotebook": false
  }
 },
 "nbformat": 4,
 "nbformat_minor": 2
}
