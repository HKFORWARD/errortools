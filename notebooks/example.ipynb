{
 "cells": [
  {
   "cell_type": "code",
   "execution_count": null,
   "metadata": {
    "ExecuteTime": {
     "end_time": "2019-01-14T12:48:04.450500Z",
     "start_time": "2019-01-14T12:48:03.586150Z"
    }
   },
   "outputs": [],
   "source": [
    "%pylab inline\n",
    "import numpy as np\n",
    "import pandas as pd\n",
    "import scipy"
   ]
  },
  {
   "cell_type": "code",
   "execution_count": null,
   "metadata": {},
   "outputs": [],
   "source": [
    "import sys\n",
    "sys.path.append(\"../errortools/\")\n",
    "import errortools"
   ]
  },
  {
   "cell_type": "markdown",
   "metadata": {},
   "source": [
    "# Fitting and predicting"
   ]
  },
  {
   "cell_type": "code",
   "execution_count": null,
   "metadata": {},
   "outputs": [],
   "source": [
    "ndim = 3\n",
    "fit_intercept = True\n",
    "ndata = 1000\n",
    "\n",
    "w_true = [2, 0, -2, 0]"
   ]
  },
  {
   "cell_type": "code",
   "execution_count": null,
   "metadata": {},
   "outputs": [],
   "source": [
    "np.random.seed(42)\n",
    "X = np.random.uniform(low=-1, high=1, size=ndim*ndata).reshape(ndata, ndim)\n",
    "p = scipy.stats.logistic.cdf(np.dot(np.concatenate((X, np.ones((X.shape[0],1), dtype=float)), axis=1), w_true))\n",
    "y = (p > np.random.uniform(size=ndata)).astype(int)"
   ]
  },
  {
   "cell_type": "code",
   "execution_count": null,
   "metadata": {},
   "outputs": [],
   "source": [
    "fig, ax = plt.subplots(1, 3, figsize=(15,4))\n",
    "\n",
    "ax[0].plot(X[y==0,0], X[y==0,1], 'o', color='orange', alpha=0.1, markersize=5)\n",
    "ax[0].plot(X[y==1,0], X[y==1,1], 'o', color='green',  alpha=0.1, markersize=5)\n",
    "ax[0].set_xlabel(\"x0\")\n",
    "ax[0].set_ylabel(\"x1\")\n",
    "\n",
    "ax[1].plot(X[y==0,0], X[y==0,2], 'o', color='orange', alpha=0.1, markersize=5)\n",
    "ax[1].plot(X[y==1,0], X[y==1,2], 'o', color='green',  alpha=0.1, markersize=5)\n",
    "ax[1].set_xlabel(\"x0\")\n",
    "ax[1].set_ylabel(\"x2\")\n",
    "\n",
    "ax[2].plot(X[y==0,1], X[y==0,2], 'o', color='orange', alpha=0.1, markersize=5)\n",
    "ax[2].plot(X[y==1,1], X[y==1,2], 'o', color='green',  alpha=0.1, markersize=5)\n",
    "ax[2].set_xlabel(\"x1\")\n",
    "ax[2].set_ylabel(\"x2\");"
   ]
  },
  {
   "cell_type": "code",
   "execution_count": null,
   "metadata": {},
   "outputs": [],
   "source": [
    "model = errortools.LogisticRegression(fit_intercept=True)\n",
    "model.fit(X,y)"
   ]
  },
  {
   "cell_type": "code",
   "execution_count": null,
   "metadata": {
    "scrolled": false
   },
   "outputs": [],
   "source": [
    "fig, ax = plt.subplots(1, 3, figsize=(20,12))\n",
    "\n",
    "nstddevs = 3\n",
    "\n",
    "w = model.weights\n",
    "cvr_mtx = model.cvr_mtx\n",
    "prc_mtx = np.linalg.inv(cvr_mtx)\n",
    "\n",
    "u = np.linspace(-1, 1, 100).reshape(-1,1)\n",
    "a = np.zeros((100,1), dtype=float)\n",
    "\n",
    "x = np.concatenate((u, a, a), axis=1)\n",
    "f = model.predict(x)\n",
    "el1, eu1 = model.estimate_errors(x, 1)\n",
    "el3, eu3 = model.estimate_errors(x, 3)\n",
    "els, eus = model.estimate_errors_sampling(x, 100)\n",
    "g = scipy.stats.logistic.cdf(np.dot(np.concatenate((x,np.ones((x.shape[0],1))),axis=1), w_true))\n",
    "ax[0].plot(u, g, '-', color='black', alpha=1, label=\"true curve\")\n",
    "ax[0].plot(u, f, '-', color='red', label=\"fitted curve\")\n",
    "ax[0].plot(u, f-el1, '--', color='orange', label=\"1 sigma uncertainty\")\n",
    "ax[0].plot(u, f+eu1, '--', color='orange')\n",
    "ax[0].plot(u, f-el3, '-.', color='yellow', label=\"3 sigma uncertainty\")\n",
    "ax[0].plot(u, f+eu3, '-.', color='yellow')\n",
    "ax[0].plot(u, f-els, '.', color='blue', label=\"uncertainty sampling\")\n",
    "ax[0].plot(u, f+eus, '.', color='blue')\n",
    "ax[0].set_ylim((0,1))\n",
    "ax[0].set_xlabel(\"x0\")\n",
    "ax[0].set_ylabel(\"logistic prob\")\n",
    "ax[0].legend()\n",
    "\n",
    "x = np.concatenate((a, u, a), axis=1)\n",
    "f = model.predict(x)\n",
    "el1, eu1 = model.estimate_errors(x, 1)\n",
    "el3, eu3 = model.estimate_errors(x, 3)\n",
    "els, eus = model.estimate_errors_sampling(x, 100)\n",
    "g = scipy.stats.logistic.cdf(np.dot(np.concatenate((x,np.ones((x.shape[0],1))),axis=1), w_true))\n",
    "ax[1].plot(u, g, '-', color='black', alpha=1)\n",
    "ax[1].plot(u, f, '-', color='red')\n",
    "ax[1].plot(u, f-el1, '--', color='orange')\n",
    "ax[1].plot(u, f+eu1, '--', color='orange')\n",
    "ax[1].plot(u, f-el3, '----', color='yellow')\n",
    "ax[1].plot(u, f+eu3, '----', color='yellow')\n",
    "ax[1].plot(u, f-els, '.', color='blue')\n",
    "ax[1].plot(u, f+eus, '.', color='blue')\n",
    "ax[1].set_ylim((0,1))\n",
    "ax[1].set_xlabel(\"x1\")\n",
    "ax[1].set_ylabel(\"logistic prob\")\n",
    "\n",
    "x = np.concatenate((a, a, u), axis=1)\n",
    "f = model.predict(x)\n",
    "el1, eu1 = model.estimate_errors(x, 1)\n",
    "el3, eu3 = model.estimate_errors(x, 3)\n",
    "els, eus = model.estimate_errors_sampling(x, 100)\n",
    "g = scipy.stats.logistic.cdf(np.dot(np.concatenate((x,np.ones((x.shape[0],1))),axis=1), w_true))\n",
    "ax[2].plot(u, g, '-', color='black', alpha=1)\n",
    "ax[2].plot(u, f, '-', color='red')\n",
    "ax[2].plot(u, f-el1, '--', color='orange')\n",
    "ax[2].plot(u, f+eu1, '--', color='orange')\n",
    "ax[2].plot(u, f-el3, '-.', color='yellow')\n",
    "ax[2].plot(u, f+eu3, '-.', color='yellow')\n",
    "ax[2].plot(u, f-els, '.', color='blue')\n",
    "ax[2].plot(u, f+eus, '.', color='blue')\n",
    "ax[2].set_ylim((0,1))\n",
    "ax[2].set_xlabel(\"x2\")\n",
    "ax[2].set_ylabel(\"logistic prob\");"
   ]
  },
  {
   "cell_type": "markdown",
   "metadata": {},
   "source": [
    "# L1 Regularization"
   ]
  },
  {
   "cell_type": "code",
   "execution_count": null,
   "metadata": {},
   "outputs": [],
   "source": [
    "ndim = 2\n",
    "fit_intercept = False\n",
    "ndata = 100\n",
    "\n",
    "w_true = [2, 2]"
   ]
  },
  {
   "cell_type": "code",
   "execution_count": null,
   "metadata": {},
   "outputs": [],
   "source": [
    "np.random.seed(42)\n",
    "X = np.random.uniform(low=-1, high=1, size=2*ndata).reshape((ndata, 2))\n",
    "p = scipy.stats.logistic.cdf(np.dot(X, w_true))\n",
    "y = (p > np.random.uniform(size=ndata)).astype(int)"
   ]
  },
  {
   "cell_type": "code",
   "execution_count": null,
   "metadata": {},
   "outputs": [],
   "source": [
    "model = errortools.LogisticRegression(fit_intercept=False)"
   ]
  },
  {
   "cell_type": "code",
   "execution_count": null,
   "metadata": {},
   "outputs": [],
   "source": [
    "def grad(w, X, y, l1, l2):\n",
    "    b = 0\n",
    "    y_pred = 1./(1.+np.exp(-X.dot(w)-b))\n",
    "    u = np.array([1 if v>0 else -1 for v in w])\n",
    "    return np.sum((y_pred-y)[:,np.newaxis] * X, axis=0) + l1*u + l2*w\n",
    "    "
   ]
  },
  {
   "cell_type": "code",
   "execution_count": null,
   "metadata": {
    "scrolled": true
   },
   "outputs": [],
   "source": [
    "fig, ax = plt.subplots(2, 3, figsize=(15,8))\n",
    "\n",
    "\n",
    "\n",
    "for i,l1 in enumerate([0, 10, 20]):\n",
    "    try:\n",
    "        model.fit(X, y, w0=[1,0], l1=l1)\n",
    "    except:\n",
    "        print(\"watch out\")\n",
    "        pass\n",
    "    w_fit = model.minuit.np_values()\n",
    "    hessian = 2*scipy.linalg.inv(model.minuit.np_matrix())\n",
    "    print(\"fitted pars:\",w_fit)\n",
    "    nll = errortools.LogisticRegression.negativeLogPosterior(w_fit, X, y, 0, 0)\n",
    "\n",
    "    w_array = np.concatenate((np.linspace(w_fit[0]-1, w_fit[0]+1, 100)[:,np.newaxis], np.full((100,1),w_fit[1])), axis=1)\n",
    "    P = np.array([errortools.LogisticRegression.negativeLogPosterior(u, X, y, l1, 0) for u in w_array])\n",
    "    ax[0,i].plot(w_array[:,0], P, color='orange', label=\"minimum @ %.2f\"%(w_fit[0]))\n",
    "    ax[0,i].legend()\n",
    "    ax[0,i].set_xlabel(\"w\")\n",
    "    ax[0,i].set_ylabel(\"neg.log.lik.\")\n",
    "    ylim = ax[0,i].get_ylim()\n",
    "    grd = grad(w_fit, X, y, 0, 0)\n",
    "    para = nll + np.dot(w_array-w_fit, grd) + 0.5*np.array([np.dot(u, np.dot(hessian, u)) for u in (w_array-w_fit[np.newaxis,:])]) + np.sum(np.abs(l1*(w_array)), axis=1)\n",
    "    ax[0,i].plot(w_array[:,0], para, '--', color='blue', alpha=0.5)\n",
    "\n",
    "    w_array = np.concatenate((np.full((100,1),w_fit[0]), np.linspace(w_fit[1]-1, w_fit[1]+1, 100)[:,np.newaxis]), axis=1)\n",
    "    P = np.array([errortools.LogisticRegression.negativeLogPosterior(u, X, y, l1, 0) for u in w_array])\n",
    "    ax[1,i].plot(w_array[:,1], P, color='orange', label=\"minimum @ %.2f\"%(w_fit[1]))\n",
    "    ax[1,i].legend()\n",
    "    ax[1,i].set_xlabel(\"w\")\n",
    "    ax[1,i].set_ylabel(\"neg.log.lik.\")\n",
    "    ylim = ax[1,i].get_ylim()\n",
    "    grd = grad(w_fit, X, y, 0, 0)\n",
    "    para = nll + np.dot(w_array-w_fit, grd) + 0.5*np.array([np.dot(u, np.dot(hessian, u)) for u in (w_array-w_fit[np.newaxis,:])]) + np.sum(np.abs(l1*(w_array)), axis=1)\n",
    "    ax[1,i].plot(w_array[:,1], para, '--', color='blue', alpha=0.5)"
   ]
  }
 ],
 "metadata": {
  "kernelspec": {
   "display_name": "Python 3",
   "language": "python",
   "name": "python3"
  },
  "language_info": {
   "codemirror_mode": {
    "name": "ipython",
    "version": 3
   },
   "file_extension": ".py",
   "mimetype": "text/x-python",
   "name": "python",
   "nbconvert_exporter": "python",
   "pygments_lexer": "ipython3",
   "version": "3.7.2"
  },
  "toc": {
   "colors": {
    "hover_highlight": "#DAA520",
    "navigate_num": "#000000",
    "navigate_text": "#333333",
    "running_highlight": "#FF0000",
    "selected_highlight": "#FFD700",
    "sidebar_border": "#EEEEEE",
    "wrapper_background": "#FFFFFF"
   },
   "moveMenuLeft": true,
   "nav_menu": {
    "height": "12px",
    "width": "252px"
   },
   "navigate_menu": true,
   "number_sections": true,
   "sideBar": true,
   "threshold": 4,
   "toc_cell": false,
   "toc_section_display": "block",
   "toc_window_display": false,
   "widenNotebook": false
  }
 },
 "nbformat": 4,
 "nbformat_minor": 2
}
